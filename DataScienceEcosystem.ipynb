{
 "cells": [
  {
   "cell_type": "markdown",
   "id": "86cd1a2b-d29f-47ac-8e1a-0cf4efefb036",
   "metadata": {},
   "source": [
    "# Data Science Tools and Ecosystem"
   ]
  },
  {
   "cell_type": "markdown",
   "id": "1955dd1c-aa07-4d95-877a-c8204c764a22",
   "metadata": {},
   "source": [
    "### In this notebook, Data Science Tools and Ecosystem are summarized."
   ]
  },
  {
   "cell_type": "markdown",
   "id": "4aad586b-9793-489a-847b-c69d6cb9127e",
   "metadata": {
    "tags": []
   },
   "source": [
    "#### Some of the popular languages that Data Scientists uare are:\n",
    "1. Python\n",
    "2. Julia\n",
    "3. R\n",
    "4. Scala"
   ]
  },
  {
   "cell_type": "markdown",
   "id": "8db40b72-6510-46fd-8e92-c5a54870b551",
   "metadata": {},
   "source": [
    "#### Some of the commonly used libraries used by Data Scientists include:\n",
    "1. Numpy\n",
    "2. Pandas\n",
    "3. Scikit-Learn\n",
    "4. Matplolib"
   ]
  },
  {
   "cell_type": "markdown",
   "id": "0c79b2f9-6fc4-422a-916c-cf50a0e8d5ac",
   "metadata": {},
   "source": [
    "| Data Science Tools  |\n",
    "|---------------------|\n",
    "| Jupyter Notebook    |\n",
    "| RStudio             |\n",
    "| Visual Studio Code  |"
   ]
  },
  {
   "cell_type": "markdown",
   "id": "111d9f8a-5536-4684-9a09-d8f7b590e5cb",
   "metadata": {},
   "source": [
    "### Below are a few examples of evaluating arithmetic expressions in Python\n"
   ]
  },
  {
   "cell_type": "code",
   "execution_count": 2,
   "id": "a300000b-2068-4600-9e96-2c31ffe2e07a",
   "metadata": {
    "tags": []
   },
   "outputs": [
    {
     "data": {
      "text/plain": [
       "17"
      ]
     },
     "execution_count": 2,
     "metadata": {},
     "output_type": "execute_result"
    }
   ],
   "source": [
    "# This is a simple arithmetric expression to mutiply then add integers\n",
    "(3*4)+5"
   ]
  },
  {
   "cell_type": "code",
   "execution_count": 3,
   "id": "97a6425a-5255-46d0-98fb-30ad68ec86b9",
   "metadata": {
    "tags": []
   },
   "outputs": [
    {
     "data": {
      "text/plain": [
       "3.3333333333333335"
      ]
     },
     "execution_count": 3,
     "metadata": {},
     "output_type": "execute_result"
    }
   ],
   "source": [
    "# This will convert 200 minutes to hours by didving by 69\n",
    "200/60"
   ]
  },
  {
   "cell_type": "markdown",
   "id": "49335b5f-52a8-467b-aab9-39694b89fd5b",
   "metadata": {
    "tags": []
   },
   "source": [
    "**Objectives**\n",
    "##### In this final assignment, you will:\n",
    "- Create a Jupyter Notebook\n",
    "- Insert code and markdown cells\n",
    "- Share your notebook through Github"
   ]
  },
  {
   "cell_type": "markdown",
   "id": "085816b7-7fc6-4017-9698-a04c740c2b20",
   "metadata": {},
   "source": [
    "## Author\n",
    "Adeyemi Adekunle"
   ]
  },
  {
   "cell_type": "code",
   "execution_count": null,
   "id": "96cf1a08-88fa-471e-994b-4d5b7cff826a",
   "metadata": {},
   "outputs": [],
   "source": []
  }
 ],
 "metadata": {
  "kernelspec": {
   "display_name": "Python 3 (ipykernel)",
   "language": "python",
   "name": "python3"
  },
  "language_info": {
   "codemirror_mode": {
    "name": "ipython",
    "version": 3
   },
   "file_extension": ".py",
   "mimetype": "text/x-python",
   "name": "python",
   "nbconvert_exporter": "python",
   "pygments_lexer": "ipython3",
   "version": "3.11.5"
  }
 },
 "nbformat": 4,
 "nbformat_minor": 5
}
